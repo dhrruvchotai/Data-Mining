{
 "cells": [
  {
   "cell_type": "markdown",
   "id": "ea4af35f",
   "metadata": {},
   "source": [
    "# 🧺 Online Retail Dataset (Apriori Preprocessing) - TASK 2\n",
    "**Dataset**: https://www.kaggle.com/datasets/vijayuv/onlineretail\n",
    "\n"
   ]
  },
  {
   "cell_type": "markdown",
   "id": "6135d78b",
   "metadata": {},
   "source": [
    "# Step 1: Load Data"
   ]
  },
  {
   "cell_type": "code",
   "execution_count": 384,
   "id": "7454aa82",
   "metadata": {},
   "outputs": [],
   "source": [
    "import pandas as pd"
   ]
  },
  {
   "cell_type": "code",
   "execution_count": 385,
   "id": "683445f6",
   "metadata": {},
   "outputs": [
    {
     "data": {
      "text/html": [
       "<div>\n",
       "<style scoped>\n",
       "    .dataframe tbody tr th:only-of-type {\n",
       "        vertical-align: middle;\n",
       "    }\n",
       "\n",
       "    .dataframe tbody tr th {\n",
       "        vertical-align: top;\n",
       "    }\n",
       "\n",
       "    .dataframe thead th {\n",
       "        text-align: right;\n",
       "    }\n",
       "</style>\n",
       "<table border=\"1\" class=\"dataframe\">\n",
       "  <thead>\n",
       "    <tr style=\"text-align: right;\">\n",
       "      <th></th>\n",
       "      <th>InvoiceNo</th>\n",
       "      <th>StockCode</th>\n",
       "      <th>Description</th>\n",
       "      <th>Quantity</th>\n",
       "      <th>InvoiceDate</th>\n",
       "      <th>UnitPrice</th>\n",
       "      <th>CustomerID</th>\n",
       "      <th>Country</th>\n",
       "    </tr>\n",
       "  </thead>\n",
       "  <tbody>\n",
       "    <tr>\n",
       "      <th>0</th>\n",
       "      <td>536365</td>\n",
       "      <td>85123A</td>\n",
       "      <td>WHITE HANGING HEART T-LIGHT HOLDER</td>\n",
       "      <td>6</td>\n",
       "      <td>12/1/2010 8:26</td>\n",
       "      <td>2.55</td>\n",
       "      <td>17850.0</td>\n",
       "      <td>United Kingdom</td>\n",
       "    </tr>\n",
       "    <tr>\n",
       "      <th>1</th>\n",
       "      <td>536365</td>\n",
       "      <td>71053</td>\n",
       "      <td>WHITE METAL LANTERN</td>\n",
       "      <td>6</td>\n",
       "      <td>12/1/2010 8:26</td>\n",
       "      <td>3.39</td>\n",
       "      <td>17850.0</td>\n",
       "      <td>United Kingdom</td>\n",
       "    </tr>\n",
       "    <tr>\n",
       "      <th>2</th>\n",
       "      <td>536365</td>\n",
       "      <td>84406B</td>\n",
       "      <td>CREAM CUPID HEARTS COAT HANGER</td>\n",
       "      <td>8</td>\n",
       "      <td>12/1/2010 8:26</td>\n",
       "      <td>2.75</td>\n",
       "      <td>17850.0</td>\n",
       "      <td>United Kingdom</td>\n",
       "    </tr>\n",
       "    <tr>\n",
       "      <th>3</th>\n",
       "      <td>536365</td>\n",
       "      <td>84029G</td>\n",
       "      <td>KNITTED UNION FLAG HOT WATER BOTTLE</td>\n",
       "      <td>6</td>\n",
       "      <td>12/1/2010 8:26</td>\n",
       "      <td>3.39</td>\n",
       "      <td>17850.0</td>\n",
       "      <td>United Kingdom</td>\n",
       "    </tr>\n",
       "    <tr>\n",
       "      <th>4</th>\n",
       "      <td>536365</td>\n",
       "      <td>84029E</td>\n",
       "      <td>RED WOOLLY HOTTIE WHITE HEART.</td>\n",
       "      <td>6</td>\n",
       "      <td>12/1/2010 8:26</td>\n",
       "      <td>3.39</td>\n",
       "      <td>17850.0</td>\n",
       "      <td>United Kingdom</td>\n",
       "    </tr>\n",
       "  </tbody>\n",
       "</table>\n",
       "</div>"
      ],
      "text/plain": [
       "  InvoiceNo StockCode                          Description  Quantity  \\\n",
       "0    536365    85123A   WHITE HANGING HEART T-LIGHT HOLDER         6   \n",
       "1    536365     71053                  WHITE METAL LANTERN         6   \n",
       "2    536365    84406B       CREAM CUPID HEARTS COAT HANGER         8   \n",
       "3    536365    84029G  KNITTED UNION FLAG HOT WATER BOTTLE         6   \n",
       "4    536365    84029E       RED WOOLLY HOTTIE WHITE HEART.         6   \n",
       "\n",
       "      InvoiceDate  UnitPrice  CustomerID         Country  \n",
       "0  12/1/2010 8:26       2.55     17850.0  United Kingdom  \n",
       "1  12/1/2010 8:26       3.39     17850.0  United Kingdom  \n",
       "2  12/1/2010 8:26       2.75     17850.0  United Kingdom  \n",
       "3  12/1/2010 8:26       3.39     17850.0  United Kingdom  \n",
       "4  12/1/2010 8:26       3.39     17850.0  United Kingdom  "
      ]
     },
     "execution_count": 385,
     "metadata": {},
     "output_type": "execute_result"
    }
   ],
   "source": [
    "df = pd.read_csv(\"online_retail.csv\",encoding=\"latin\")\n",
    "df.head()"
   ]
  },
  {
   "cell_type": "code",
   "execution_count": 386,
   "id": "4cbd2fb2",
   "metadata": {},
   "outputs": [
    {
     "data": {
      "text/plain": [
       "(541909, 8)"
      ]
     },
     "execution_count": 386,
     "metadata": {},
     "output_type": "execute_result"
    }
   ],
   "source": [
    "df.shape"
   ]
  },
  {
   "cell_type": "markdown",
   "id": "12f2b89b",
   "metadata": {},
   "source": [
    "# Step 2: Drop Missing Invoices or Descriptions"
   ]
  },
  {
   "cell_type": "code",
   "execution_count": 387,
   "id": "e0238ffa",
   "metadata": {},
   "outputs": [
    {
     "data": {
      "text/plain": [
       "InvoiceNo           0\n",
       "StockCode           0\n",
       "Description      1454\n",
       "Quantity            0\n",
       "InvoiceDate         0\n",
       "UnitPrice           0\n",
       "CustomerID     135080\n",
       "Country             0\n",
       "dtype: int64"
      ]
     },
     "execution_count": 387,
     "metadata": {},
     "output_type": "execute_result"
    }
   ],
   "source": [
    "df.isnull().sum()"
   ]
  },
  {
   "cell_type": "code",
   "execution_count": 388,
   "id": "8b154959",
   "metadata": {},
   "outputs": [
    {
     "data": {
      "text/plain": [
       "(541909, 8)"
      ]
     },
     "execution_count": 388,
     "metadata": {},
     "output_type": "execute_result"
    }
   ],
   "source": [
    "df.shape"
   ]
  },
  {
   "cell_type": "code",
   "execution_count": 389,
   "id": "eb9438eb",
   "metadata": {},
   "outputs": [
    {
     "data": {
      "text/plain": [
       "InvoiceNo         0\n",
       "StockCode         0\n",
       "Description    1454\n",
       "Quantity          0\n",
       "InvoiceDate       0\n",
       "UnitPrice         0\n",
       "CustomerID        0\n",
       "Country           0\n",
       "dtype: int64"
      ]
     },
     "execution_count": 389,
     "metadata": {},
     "output_type": "execute_result"
    }
   ],
   "source": [
    "df['CustomerID'] = df['CustomerID'].fillna(0)\n",
    "df.isnull().sum()"
   ]
  },
  {
   "cell_type": "code",
   "execution_count": 390,
   "id": "d62a70f2",
   "metadata": {},
   "outputs": [],
   "source": [
    "df.dropna(subset=[\"Description\"],inplace=True)"
   ]
  },
  {
   "cell_type": "code",
   "execution_count": 391,
   "id": "9dc0b1c1",
   "metadata": {},
   "outputs": [
    {
     "data": {
      "text/plain": [
       "(540455, 8)"
      ]
     },
     "execution_count": 391,
     "metadata": {},
     "output_type": "execute_result"
    }
   ],
   "source": [
    "df.shape"
   ]
  },
  {
   "cell_type": "code",
   "execution_count": 392,
   "id": "e5c1039d",
   "metadata": {},
   "outputs": [
    {
     "data": {
      "text/plain": [
       "InvoiceNo      0\n",
       "StockCode      0\n",
       "Description    0\n",
       "Quantity       0\n",
       "InvoiceDate    0\n",
       "UnitPrice      0\n",
       "CustomerID     0\n",
       "Country        0\n",
       "dtype: int64"
      ]
     },
     "execution_count": 392,
     "metadata": {},
     "output_type": "execute_result"
    }
   ],
   "source": [
    "df.isnull().sum()"
   ]
  },
  {
   "cell_type": "markdown",
   "id": "73b3ba19",
   "metadata": {},
   "source": [
    "# Step 3: Remove Canceled Invoices <BR> Start with letter 'c'"
   ]
  },
  {
   "cell_type": "code",
   "execution_count": 393,
   "id": "fbfc9836",
   "metadata": {},
   "outputs": [
    {
     "data": {
      "text/plain": [
       "dtype('O')"
      ]
     },
     "execution_count": 393,
     "metadata": {},
     "output_type": "execute_result"
    }
   ],
   "source": [
    "df['InvoiceNo'].dtype"
   ]
  },
  {
   "cell_type": "code",
   "execution_count": 394,
   "id": "7246b2ea",
   "metadata": {},
   "outputs": [
    {
     "data": {
      "text/plain": [
       "InvoiceNo      9288\n",
       "StockCode      9288\n",
       "Description    9288\n",
       "Quantity       9288\n",
       "InvoiceDate    9288\n",
       "UnitPrice      9288\n",
       "CustomerID     9288\n",
       "Country        9288\n",
       "dtype: int64"
      ]
     },
     "execution_count": 394,
     "metadata": {},
     "output_type": "execute_result"
    }
   ],
   "source": [
    "df[df['InvoiceNo'].str.startswith('C')].count()"
   ]
  },
  {
   "cell_type": "code",
   "execution_count": 395,
   "id": "f40f7847",
   "metadata": {},
   "outputs": [
    {
     "data": {
      "text/plain": [
       "(540455, 8)"
      ]
     },
     "execution_count": 395,
     "metadata": {},
     "output_type": "execute_result"
    }
   ],
   "source": [
    "df.shape"
   ]
  },
  {
   "cell_type": "code",
   "execution_count": 396,
   "id": "950f564a",
   "metadata": {},
   "outputs": [],
   "source": [
    "df = df[~df['InvoiceNo'].str.startswith('C')]"
   ]
  },
  {
   "cell_type": "code",
   "execution_count": 397,
   "id": "29bb0165",
   "metadata": {},
   "outputs": [
    {
     "data": {
      "text/plain": [
       "(531167, 8)"
      ]
     },
     "execution_count": 397,
     "metadata": {},
     "output_type": "execute_result"
    }
   ],
   "source": [
    "df.shape"
   ]
  },
  {
   "cell_type": "code",
   "execution_count": 398,
   "id": "2444069d",
   "metadata": {},
   "outputs": [
    {
     "data": {
      "text/plain": [
       "InvoiceNo      0\n",
       "StockCode      0\n",
       "Description    0\n",
       "Quantity       0\n",
       "InvoiceDate    0\n",
       "UnitPrice      0\n",
       "CustomerID     0\n",
       "Country        0\n",
       "dtype: int64"
      ]
     },
     "execution_count": 398,
     "metadata": {},
     "output_type": "execute_result"
    }
   ],
   "source": [
    "df[df['InvoiceNo'].str.startswith('C')].count()"
   ]
  },
  {
   "cell_type": "code",
   "execution_count": 399,
   "id": "5ff5e2c8",
   "metadata": {},
   "outputs": [
    {
     "data": {
      "text/plain": [
       "(531167, 8)"
      ]
     },
     "execution_count": 399,
     "metadata": {},
     "output_type": "execute_result"
    }
   ],
   "source": [
    "df.shape"
   ]
  },
  {
   "cell_type": "code",
   "execution_count": 400,
   "id": "f65208a4",
   "metadata": {},
   "outputs": [
    {
     "data": {
      "text/plain": [
       "np.int64(0)"
      ]
     },
     "execution_count": 400,
     "metadata": {},
     "output_type": "execute_result"
    }
   ],
   "source": [
    "df[\"InvoiceNo\"].isnull().sum()"
   ]
  },
  {
   "cell_type": "markdown",
   "id": "325c9d94",
   "metadata": {},
   "source": [
    "# Step 4: Keep Only Positive Quantities"
   ]
  },
  {
   "cell_type": "code",
   "execution_count": 401,
   "id": "912882fc",
   "metadata": {},
   "outputs": [
    {
     "data": {
      "text/plain": [
       "dtype('int64')"
      ]
     },
     "execution_count": 401,
     "metadata": {},
     "output_type": "execute_result"
    }
   ],
   "source": [
    "df['Quantity'].dtype"
   ]
  },
  {
   "cell_type": "code",
   "execution_count": 402,
   "id": "2e7cf2c0",
   "metadata": {},
   "outputs": [
    {
     "data": {
      "text/plain": [
       "InvoiceNo      474\n",
       "StockCode      474\n",
       "Description    474\n",
       "Quantity       474\n",
       "InvoiceDate    474\n",
       "UnitPrice      474\n",
       "CustomerID     474\n",
       "Country        474\n",
       "dtype: int64"
      ]
     },
     "execution_count": 402,
     "metadata": {},
     "output_type": "execute_result"
    }
   ],
   "source": [
    "df[df['Quantity'] < 0].count()"
   ]
  },
  {
   "cell_type": "code",
   "execution_count": 403,
   "id": "7ff2c1b6",
   "metadata": {},
   "outputs": [
    {
     "data": {
      "text/plain": [
       "(531167, 8)"
      ]
     },
     "execution_count": 403,
     "metadata": {},
     "output_type": "execute_result"
    }
   ],
   "source": [
    "df.shape"
   ]
  },
  {
   "cell_type": "code",
   "execution_count": 404,
   "id": "3a507e51",
   "metadata": {},
   "outputs": [],
   "source": [
    "df = df[df['Quantity'] >= 0]"
   ]
  },
  {
   "cell_type": "code",
   "execution_count": 405,
   "id": "3e0d4ea2",
   "metadata": {},
   "outputs": [
    {
     "data": {
      "text/plain": [
       "(530693, 8)"
      ]
     },
     "execution_count": 405,
     "metadata": {},
     "output_type": "execute_result"
    }
   ],
   "source": [
    "df.shape"
   ]
  },
  {
   "cell_type": "code",
   "execution_count": 406,
   "id": "ce55f75d",
   "metadata": {},
   "outputs": [
    {
     "data": {
      "text/plain": [
       "InvoiceNo      0\n",
       "StockCode      0\n",
       "Description    0\n",
       "Quantity       0\n",
       "InvoiceDate    0\n",
       "UnitPrice      0\n",
       "CustomerID     0\n",
       "Country        0\n",
       "dtype: int64"
      ]
     },
     "execution_count": 406,
     "metadata": {},
     "output_type": "execute_result"
    }
   ],
   "source": [
    "df[df['Quantity'] < 0].count()"
   ]
  },
  {
   "cell_type": "markdown",
   "id": "4ba4bab1",
   "metadata": {},
   "source": [
    "# Step 5: Standardize Item Descriptions | Lower case and remove space"
   ]
  },
  {
   "cell_type": "code",
   "execution_count": 407,
   "id": "0a96250d",
   "metadata": {},
   "outputs": [],
   "source": [
    "df['Description'] = df['Description'].str.lower().str.strip()"
   ]
  },
  {
   "cell_type": "markdown",
   "id": "2e771f5d",
   "metadata": {},
   "source": [
    "# Step 6: Filter for a Single Country (e.g., United Kingdom)"
   ]
  },
  {
   "cell_type": "code",
   "execution_count": 408,
   "id": "bf09b9db",
   "metadata": {},
   "outputs": [
    {
     "data": {
      "text/html": [
       "<div>\n",
       "<style scoped>\n",
       "    .dataframe tbody tr th:only-of-type {\n",
       "        vertical-align: middle;\n",
       "    }\n",
       "\n",
       "    .dataframe tbody tr th {\n",
       "        vertical-align: top;\n",
       "    }\n",
       "\n",
       "    .dataframe thead th {\n",
       "        text-align: right;\n",
       "    }\n",
       "</style>\n",
       "<table border=\"1\" class=\"dataframe\">\n",
       "  <thead>\n",
       "    <tr style=\"text-align: right;\">\n",
       "      <th></th>\n",
       "      <th>InvoiceNo</th>\n",
       "      <th>StockCode</th>\n",
       "      <th>Description</th>\n",
       "      <th>Quantity</th>\n",
       "      <th>InvoiceDate</th>\n",
       "      <th>UnitPrice</th>\n",
       "      <th>CustomerID</th>\n",
       "      <th>Country</th>\n",
       "    </tr>\n",
       "  </thead>\n",
       "  <tbody>\n",
       "    <tr>\n",
       "      <th>0</th>\n",
       "      <td>536365</td>\n",
       "      <td>85123A</td>\n",
       "      <td>white hanging heart t-light holder</td>\n",
       "      <td>6</td>\n",
       "      <td>12/1/2010 8:26</td>\n",
       "      <td>2.55</td>\n",
       "      <td>17850.0</td>\n",
       "      <td>United Kingdom</td>\n",
       "    </tr>\n",
       "    <tr>\n",
       "      <th>1</th>\n",
       "      <td>536365</td>\n",
       "      <td>71053</td>\n",
       "      <td>white metal lantern</td>\n",
       "      <td>6</td>\n",
       "      <td>12/1/2010 8:26</td>\n",
       "      <td>3.39</td>\n",
       "      <td>17850.0</td>\n",
       "      <td>United Kingdom</td>\n",
       "    </tr>\n",
       "    <tr>\n",
       "      <th>2</th>\n",
       "      <td>536365</td>\n",
       "      <td>84406B</td>\n",
       "      <td>cream cupid hearts coat hanger</td>\n",
       "      <td>8</td>\n",
       "      <td>12/1/2010 8:26</td>\n",
       "      <td>2.75</td>\n",
       "      <td>17850.0</td>\n",
       "      <td>United Kingdom</td>\n",
       "    </tr>\n",
       "    <tr>\n",
       "      <th>3</th>\n",
       "      <td>536365</td>\n",
       "      <td>84029G</td>\n",
       "      <td>knitted union flag hot water bottle</td>\n",
       "      <td>6</td>\n",
       "      <td>12/1/2010 8:26</td>\n",
       "      <td>3.39</td>\n",
       "      <td>17850.0</td>\n",
       "      <td>United Kingdom</td>\n",
       "    </tr>\n",
       "    <tr>\n",
       "      <th>4</th>\n",
       "      <td>536365</td>\n",
       "      <td>84029E</td>\n",
       "      <td>red woolly hottie white heart.</td>\n",
       "      <td>6</td>\n",
       "      <td>12/1/2010 8:26</td>\n",
       "      <td>3.39</td>\n",
       "      <td>17850.0</td>\n",
       "      <td>United Kingdom</td>\n",
       "    </tr>\n",
       "    <tr>\n",
       "      <th>...</th>\n",
       "      <td>...</td>\n",
       "      <td>...</td>\n",
       "      <td>...</td>\n",
       "      <td>...</td>\n",
       "      <td>...</td>\n",
       "      <td>...</td>\n",
       "      <td>...</td>\n",
       "      <td>...</td>\n",
       "    </tr>\n",
       "    <tr>\n",
       "      <th>541889</th>\n",
       "      <td>581585</td>\n",
       "      <td>22466</td>\n",
       "      <td>fairy tale cottage night light</td>\n",
       "      <td>12</td>\n",
       "      <td>12/9/2011 12:31</td>\n",
       "      <td>1.95</td>\n",
       "      <td>15804.0</td>\n",
       "      <td>United Kingdom</td>\n",
       "    </tr>\n",
       "    <tr>\n",
       "      <th>541890</th>\n",
       "      <td>581586</td>\n",
       "      <td>22061</td>\n",
       "      <td>large cake stand  hanging strawbery</td>\n",
       "      <td>8</td>\n",
       "      <td>12/9/2011 12:49</td>\n",
       "      <td>2.95</td>\n",
       "      <td>13113.0</td>\n",
       "      <td>United Kingdom</td>\n",
       "    </tr>\n",
       "    <tr>\n",
       "      <th>541891</th>\n",
       "      <td>581586</td>\n",
       "      <td>23275</td>\n",
       "      <td>set of 3 hanging owls ollie beak</td>\n",
       "      <td>24</td>\n",
       "      <td>12/9/2011 12:49</td>\n",
       "      <td>1.25</td>\n",
       "      <td>13113.0</td>\n",
       "      <td>United Kingdom</td>\n",
       "    </tr>\n",
       "    <tr>\n",
       "      <th>541892</th>\n",
       "      <td>581586</td>\n",
       "      <td>21217</td>\n",
       "      <td>red retrospot round cake tins</td>\n",
       "      <td>24</td>\n",
       "      <td>12/9/2011 12:49</td>\n",
       "      <td>8.95</td>\n",
       "      <td>13113.0</td>\n",
       "      <td>United Kingdom</td>\n",
       "    </tr>\n",
       "    <tr>\n",
       "      <th>541893</th>\n",
       "      <td>581586</td>\n",
       "      <td>20685</td>\n",
       "      <td>doormat red retrospot</td>\n",
       "      <td>10</td>\n",
       "      <td>12/9/2011 12:49</td>\n",
       "      <td>7.08</td>\n",
       "      <td>13113.0</td>\n",
       "      <td>United Kingdom</td>\n",
       "    </tr>\n",
       "  </tbody>\n",
       "</table>\n",
       "<p>485694 rows × 8 columns</p>\n",
       "</div>"
      ],
      "text/plain": [
       "       InvoiceNo StockCode                          Description  Quantity  \\\n",
       "0         536365    85123A   white hanging heart t-light holder         6   \n",
       "1         536365     71053                  white metal lantern         6   \n",
       "2         536365    84406B       cream cupid hearts coat hanger         8   \n",
       "3         536365    84029G  knitted union flag hot water bottle         6   \n",
       "4         536365    84029E       red woolly hottie white heart.         6   \n",
       "...          ...       ...                                  ...       ...   \n",
       "541889    581585     22466       fairy tale cottage night light        12   \n",
       "541890    581586     22061  large cake stand  hanging strawbery         8   \n",
       "541891    581586     23275     set of 3 hanging owls ollie beak        24   \n",
       "541892    581586     21217        red retrospot round cake tins        24   \n",
       "541893    581586     20685                doormat red retrospot        10   \n",
       "\n",
       "            InvoiceDate  UnitPrice  CustomerID         Country  \n",
       "0        12/1/2010 8:26       2.55     17850.0  United Kingdom  \n",
       "1        12/1/2010 8:26       3.39     17850.0  United Kingdom  \n",
       "2        12/1/2010 8:26       2.75     17850.0  United Kingdom  \n",
       "3        12/1/2010 8:26       3.39     17850.0  United Kingdom  \n",
       "4        12/1/2010 8:26       3.39     17850.0  United Kingdom  \n",
       "...                 ...        ...         ...             ...  \n",
       "541889  12/9/2011 12:31       1.95     15804.0  United Kingdom  \n",
       "541890  12/9/2011 12:49       2.95     13113.0  United Kingdom  \n",
       "541891  12/9/2011 12:49       1.25     13113.0  United Kingdom  \n",
       "541892  12/9/2011 12:49       8.95     13113.0  United Kingdom  \n",
       "541893  12/9/2011 12:49       7.08     13113.0  United Kingdom  \n",
       "\n",
       "[485694 rows x 8 columns]"
      ]
     },
     "execution_count": 408,
     "metadata": {},
     "output_type": "execute_result"
    }
   ],
   "source": [
    "df[df['Country'] == \"United Kingdom\"]"
   ]
  },
  {
   "cell_type": "code",
   "execution_count": 409,
   "id": "5bf80eb0",
   "metadata": {},
   "outputs": [
    {
     "data": {
      "text/plain": [
       "InvoiceNo      485694\n",
       "StockCode      485694\n",
       "Description    485694\n",
       "Quantity       485694\n",
       "InvoiceDate    485694\n",
       "UnitPrice      485694\n",
       "CustomerID     485694\n",
       "Country        485694\n",
       "dtype: int64"
      ]
     },
     "execution_count": 409,
     "metadata": {},
     "output_type": "execute_result"
    }
   ],
   "source": [
    "df[df['Country'] == \"United Kingdom\"].count()"
   ]
  },
  {
   "cell_type": "markdown",
   "id": "4639fb4e",
   "metadata": {},
   "source": [
    "# Step 7: Remove Duplicates"
   ]
  },
  {
   "cell_type": "code",
   "execution_count": 410,
   "id": "0c11c30c",
   "metadata": {},
   "outputs": [
    {
     "data": {
      "text/html": [
       "<div>\n",
       "<style scoped>\n",
       "    .dataframe tbody tr th:only-of-type {\n",
       "        vertical-align: middle;\n",
       "    }\n",
       "\n",
       "    .dataframe tbody tr th {\n",
       "        vertical-align: top;\n",
       "    }\n",
       "\n",
       "    .dataframe thead th {\n",
       "        text-align: right;\n",
       "    }\n",
       "</style>\n",
       "<table border=\"1\" class=\"dataframe\">\n",
       "  <thead>\n",
       "    <tr style=\"text-align: right;\">\n",
       "      <th></th>\n",
       "      <th>InvoiceNo</th>\n",
       "      <th>StockCode</th>\n",
       "      <th>Description</th>\n",
       "      <th>Quantity</th>\n",
       "      <th>InvoiceDate</th>\n",
       "      <th>UnitPrice</th>\n",
       "      <th>CustomerID</th>\n",
       "      <th>Country</th>\n",
       "    </tr>\n",
       "  </thead>\n",
       "  <tbody>\n",
       "    <tr>\n",
       "      <th>0</th>\n",
       "      <td>536365</td>\n",
       "      <td>85123A</td>\n",
       "      <td>white hanging heart t-light holder</td>\n",
       "      <td>6</td>\n",
       "      <td>12/1/2010 8:26</td>\n",
       "      <td>2.55</td>\n",
       "      <td>17850.0</td>\n",
       "      <td>United Kingdom</td>\n",
       "    </tr>\n",
       "    <tr>\n",
       "      <th>1</th>\n",
       "      <td>536365</td>\n",
       "      <td>71053</td>\n",
       "      <td>white metal lantern</td>\n",
       "      <td>6</td>\n",
       "      <td>12/1/2010 8:26</td>\n",
       "      <td>3.39</td>\n",
       "      <td>17850.0</td>\n",
       "      <td>United Kingdom</td>\n",
       "    </tr>\n",
       "    <tr>\n",
       "      <th>2</th>\n",
       "      <td>536365</td>\n",
       "      <td>84406B</td>\n",
       "      <td>cream cupid hearts coat hanger</td>\n",
       "      <td>8</td>\n",
       "      <td>12/1/2010 8:26</td>\n",
       "      <td>2.75</td>\n",
       "      <td>17850.0</td>\n",
       "      <td>United Kingdom</td>\n",
       "    </tr>\n",
       "    <tr>\n",
       "      <th>3</th>\n",
       "      <td>536365</td>\n",
       "      <td>84029G</td>\n",
       "      <td>knitted union flag hot water bottle</td>\n",
       "      <td>6</td>\n",
       "      <td>12/1/2010 8:26</td>\n",
       "      <td>3.39</td>\n",
       "      <td>17850.0</td>\n",
       "      <td>United Kingdom</td>\n",
       "    </tr>\n",
       "    <tr>\n",
       "      <th>4</th>\n",
       "      <td>536365</td>\n",
       "      <td>84029E</td>\n",
       "      <td>red woolly hottie white heart.</td>\n",
       "      <td>6</td>\n",
       "      <td>12/1/2010 8:26</td>\n",
       "      <td>3.39</td>\n",
       "      <td>17850.0</td>\n",
       "      <td>United Kingdom</td>\n",
       "    </tr>\n",
       "  </tbody>\n",
       "</table>\n",
       "</div>"
      ],
      "text/plain": [
       "  InvoiceNo StockCode                          Description  Quantity  \\\n",
       "0    536365    85123A   white hanging heart t-light holder         6   \n",
       "1    536365     71053                  white metal lantern         6   \n",
       "2    536365    84406B       cream cupid hearts coat hanger         8   \n",
       "3    536365    84029G  knitted union flag hot water bottle         6   \n",
       "4    536365    84029E       red woolly hottie white heart.         6   \n",
       "\n",
       "      InvoiceDate  UnitPrice  CustomerID         Country  \n",
       "0  12/1/2010 8:26       2.55     17850.0  United Kingdom  \n",
       "1  12/1/2010 8:26       3.39     17850.0  United Kingdom  \n",
       "2  12/1/2010 8:26       2.75     17850.0  United Kingdom  \n",
       "3  12/1/2010 8:26       3.39     17850.0  United Kingdom  \n",
       "4  12/1/2010 8:26       3.39     17850.0  United Kingdom  "
      ]
     },
     "execution_count": 410,
     "metadata": {},
     "output_type": "execute_result"
    }
   ],
   "source": [
    "df.head()"
   ]
  },
  {
   "cell_type": "code",
   "execution_count": 411,
   "id": "75ff8e58",
   "metadata": {},
   "outputs": [
    {
     "data": {
      "text/plain": [
       "(530693, 8)"
      ]
     },
     "execution_count": 411,
     "metadata": {},
     "output_type": "execute_result"
    }
   ],
   "source": [
    "df.shape"
   ]
  },
  {
   "cell_type": "code",
   "execution_count": 412,
   "id": "24c68309",
   "metadata": {},
   "outputs": [],
   "source": [
    "df = df.drop_duplicates()"
   ]
  },
  {
   "cell_type": "code",
   "execution_count": 413,
   "id": "1d99c9a7",
   "metadata": {},
   "outputs": [
    {
     "data": {
      "text/plain": [
       "(525462, 8)"
      ]
     },
     "execution_count": 413,
     "metadata": {},
     "output_type": "execute_result"
    }
   ],
   "source": [
    "df.shape\n"
   ]
  },
  {
   "cell_type": "markdown",
   "id": "80a78da7",
   "metadata": {},
   "source": [
    "# Step 8: Add TotalPrice column , TotalPrice = Quantity *  UnitPrice"
   ]
  },
  {
   "cell_type": "code",
   "execution_count": 414,
   "id": "fbd53ab1",
   "metadata": {},
   "outputs": [
    {
     "data": {
      "text/html": [
       "<div>\n",
       "<style scoped>\n",
       "    .dataframe tbody tr th:only-of-type {\n",
       "        vertical-align: middle;\n",
       "    }\n",
       "\n",
       "    .dataframe tbody tr th {\n",
       "        vertical-align: top;\n",
       "    }\n",
       "\n",
       "    .dataframe thead th {\n",
       "        text-align: right;\n",
       "    }\n",
       "</style>\n",
       "<table border=\"1\" class=\"dataframe\">\n",
       "  <thead>\n",
       "    <tr style=\"text-align: right;\">\n",
       "      <th></th>\n",
       "      <th>InvoiceNo</th>\n",
       "      <th>StockCode</th>\n",
       "      <th>Description</th>\n",
       "      <th>Quantity</th>\n",
       "      <th>InvoiceDate</th>\n",
       "      <th>UnitPrice</th>\n",
       "      <th>CustomerID</th>\n",
       "      <th>Country</th>\n",
       "      <th>TotalPrice</th>\n",
       "    </tr>\n",
       "  </thead>\n",
       "  <tbody>\n",
       "    <tr>\n",
       "      <th>0</th>\n",
       "      <td>536365</td>\n",
       "      <td>85123A</td>\n",
       "      <td>white hanging heart t-light holder</td>\n",
       "      <td>6</td>\n",
       "      <td>12/1/2010 8:26</td>\n",
       "      <td>2.55</td>\n",
       "      <td>17850.0</td>\n",
       "      <td>United Kingdom</td>\n",
       "      <td>15.30</td>\n",
       "    </tr>\n",
       "    <tr>\n",
       "      <th>1</th>\n",
       "      <td>536365</td>\n",
       "      <td>71053</td>\n",
       "      <td>white metal lantern</td>\n",
       "      <td>6</td>\n",
       "      <td>12/1/2010 8:26</td>\n",
       "      <td>3.39</td>\n",
       "      <td>17850.0</td>\n",
       "      <td>United Kingdom</td>\n",
       "      <td>20.34</td>\n",
       "    </tr>\n",
       "    <tr>\n",
       "      <th>2</th>\n",
       "      <td>536365</td>\n",
       "      <td>84406B</td>\n",
       "      <td>cream cupid hearts coat hanger</td>\n",
       "      <td>8</td>\n",
       "      <td>12/1/2010 8:26</td>\n",
       "      <td>2.75</td>\n",
       "      <td>17850.0</td>\n",
       "      <td>United Kingdom</td>\n",
       "      <td>22.00</td>\n",
       "    </tr>\n",
       "    <tr>\n",
       "      <th>3</th>\n",
       "      <td>536365</td>\n",
       "      <td>84029G</td>\n",
       "      <td>knitted union flag hot water bottle</td>\n",
       "      <td>6</td>\n",
       "      <td>12/1/2010 8:26</td>\n",
       "      <td>3.39</td>\n",
       "      <td>17850.0</td>\n",
       "      <td>United Kingdom</td>\n",
       "      <td>20.34</td>\n",
       "    </tr>\n",
       "    <tr>\n",
       "      <th>4</th>\n",
       "      <td>536365</td>\n",
       "      <td>84029E</td>\n",
       "      <td>red woolly hottie white heart.</td>\n",
       "      <td>6</td>\n",
       "      <td>12/1/2010 8:26</td>\n",
       "      <td>3.39</td>\n",
       "      <td>17850.0</td>\n",
       "      <td>United Kingdom</td>\n",
       "      <td>20.34</td>\n",
       "    </tr>\n",
       "  </tbody>\n",
       "</table>\n",
       "</div>"
      ],
      "text/plain": [
       "  InvoiceNo StockCode                          Description  Quantity  \\\n",
       "0    536365    85123A   white hanging heart t-light holder         6   \n",
       "1    536365     71053                  white metal lantern         6   \n",
       "2    536365    84406B       cream cupid hearts coat hanger         8   \n",
       "3    536365    84029G  knitted union flag hot water bottle         6   \n",
       "4    536365    84029E       red woolly hottie white heart.         6   \n",
       "\n",
       "      InvoiceDate  UnitPrice  CustomerID         Country  TotalPrice  \n",
       "0  12/1/2010 8:26       2.55     17850.0  United Kingdom       15.30  \n",
       "1  12/1/2010 8:26       3.39     17850.0  United Kingdom       20.34  \n",
       "2  12/1/2010 8:26       2.75     17850.0  United Kingdom       22.00  \n",
       "3  12/1/2010 8:26       3.39     17850.0  United Kingdom       20.34  \n",
       "4  12/1/2010 8:26       3.39     17850.0  United Kingdom       20.34  "
      ]
     },
     "execution_count": 414,
     "metadata": {},
     "output_type": "execute_result"
    }
   ],
   "source": [
    "df[\"TotalPrice\"] = df[\"Quantity\"] * df[\"UnitPrice\"]\n",
    "df.head()"
   ]
  },
  {
   "cell_type": "markdown",
   "id": "5a4431bc",
   "metadata": {},
   "source": [
    "# Step 9 : Check for Top 10 Selling Products"
   ]
  },
  {
   "cell_type": "code",
   "execution_count": 415,
   "id": "a9e6cb3d",
   "metadata": {},
   "outputs": [
    {
     "data": {
      "text/plain": [
       "Description\n",
       "white hanging heart t-light holder    2315\n",
       "jumbo bag red retrospot               2112\n",
       "regency cakestand 3 tier              2009\n",
       "party bunting                         1700\n",
       "lunch bag red retrospot               1581\n",
       "assorted colour bird ornament         1476\n",
       "set of 3 cake tins pantry design      1392\n",
       "pack of 72 retrospot cake cases       1352\n",
       "lunch bag  black skull.               1301\n",
       "natural slate heart chalkboard        1255\n",
       "Name: count, dtype: int64"
      ]
     },
     "execution_count": 415,
     "metadata": {},
     "output_type": "execute_result"
    }
   ],
   "source": [
    "#ask doubt\n",
    "#that do we have to check in quantity or what \n",
    "df['Description'].value_counts().head(10)"
   ]
  },
  {
   "cell_type": "markdown",
   "id": "4e3f136f",
   "metadata": {},
   "source": [
    "# Step 10 : Identify Most Active Customers"
   ]
  },
  {
   "cell_type": "code",
   "execution_count": 416,
   "id": "e4f7c59a",
   "metadata": {},
   "outputs": [
    {
     "data": {
      "text/html": [
       "<div>\n",
       "<style scoped>\n",
       "    .dataframe tbody tr th:only-of-type {\n",
       "        vertical-align: middle;\n",
       "    }\n",
       "\n",
       "    .dataframe tbody tr th {\n",
       "        vertical-align: top;\n",
       "    }\n",
       "\n",
       "    .dataframe thead th {\n",
       "        text-align: right;\n",
       "    }\n",
       "</style>\n",
       "<table border=\"1\" class=\"dataframe\">\n",
       "  <thead>\n",
       "    <tr style=\"text-align: right;\">\n",
       "      <th></th>\n",
       "      <th>InvoiceNo</th>\n",
       "      <th>StockCode</th>\n",
       "      <th>Description</th>\n",
       "      <th>Quantity</th>\n",
       "      <th>InvoiceDate</th>\n",
       "      <th>UnitPrice</th>\n",
       "      <th>CustomerID</th>\n",
       "      <th>Country</th>\n",
       "      <th>TotalPrice</th>\n",
       "    </tr>\n",
       "  </thead>\n",
       "  <tbody>\n",
       "    <tr>\n",
       "      <th>0</th>\n",
       "      <td>536365</td>\n",
       "      <td>85123A</td>\n",
       "      <td>white hanging heart t-light holder</td>\n",
       "      <td>6</td>\n",
       "      <td>12/1/2010 8:26</td>\n",
       "      <td>2.55</td>\n",
       "      <td>17850.0</td>\n",
       "      <td>United Kingdom</td>\n",
       "      <td>15.30</td>\n",
       "    </tr>\n",
       "    <tr>\n",
       "      <th>1</th>\n",
       "      <td>536365</td>\n",
       "      <td>71053</td>\n",
       "      <td>white metal lantern</td>\n",
       "      <td>6</td>\n",
       "      <td>12/1/2010 8:26</td>\n",
       "      <td>3.39</td>\n",
       "      <td>17850.0</td>\n",
       "      <td>United Kingdom</td>\n",
       "      <td>20.34</td>\n",
       "    </tr>\n",
       "    <tr>\n",
       "      <th>9</th>\n",
       "      <td>536367</td>\n",
       "      <td>84879</td>\n",
       "      <td>assorted colour bird ornament</td>\n",
       "      <td>32</td>\n",
       "      <td>12/1/2010 8:34</td>\n",
       "      <td>1.69</td>\n",
       "      <td>13047.0</td>\n",
       "      <td>United Kingdom</td>\n",
       "      <td>54.08</td>\n",
       "    </tr>\n",
       "    <tr>\n",
       "      <th>10</th>\n",
       "      <td>536367</td>\n",
       "      <td>22745</td>\n",
       "      <td>poppy's playhouse bedroom</td>\n",
       "      <td>6</td>\n",
       "      <td>12/1/2010 8:34</td>\n",
       "      <td>2.10</td>\n",
       "      <td>13047.0</td>\n",
       "      <td>United Kingdom</td>\n",
       "      <td>12.60</td>\n",
       "    </tr>\n",
       "    <tr>\n",
       "      <th>26</th>\n",
       "      <td>536370</td>\n",
       "      <td>22728</td>\n",
       "      <td>alarm clock bakelike pink</td>\n",
       "      <td>24</td>\n",
       "      <td>12/1/2010 8:45</td>\n",
       "      <td>3.75</td>\n",
       "      <td>12583.0</td>\n",
       "      <td>France</td>\n",
       "      <td>90.00</td>\n",
       "    </tr>\n",
       "    <tr>\n",
       "      <th>...</th>\n",
       "      <td>...</td>\n",
       "      <td>...</td>\n",
       "      <td>...</td>\n",
       "      <td>...</td>\n",
       "      <td>...</td>\n",
       "      <td>...</td>\n",
       "      <td>...</td>\n",
       "      <td>...</td>\n",
       "      <td>...</td>\n",
       "    </tr>\n",
       "    <tr>\n",
       "      <th>538065</th>\n",
       "      <td>581385</td>\n",
       "      <td>21479</td>\n",
       "      <td>white skull hot water bottle</td>\n",
       "      <td>72</td>\n",
       "      <td>12/8/2011 13:11</td>\n",
       "      <td>3.75</td>\n",
       "      <td>13298.0</td>\n",
       "      <td>United Kingdom</td>\n",
       "      <td>270.00</td>\n",
       "    </tr>\n",
       "    <tr>\n",
       "      <th>538812</th>\n",
       "      <td>581416</td>\n",
       "      <td>22466</td>\n",
       "      <td>fairy tale cottage night light</td>\n",
       "      <td>1</td>\n",
       "      <td>12/8/2011 14:58</td>\n",
       "      <td>1.95</td>\n",
       "      <td>14569.0</td>\n",
       "      <td>United Kingdom</td>\n",
       "      <td>1.95</td>\n",
       "    </tr>\n",
       "    <tr>\n",
       "      <th>538813</th>\n",
       "      <td>581416</td>\n",
       "      <td>21731</td>\n",
       "      <td>red toadstool led night light</td>\n",
       "      <td>1</td>\n",
       "      <td>12/8/2011 14:58</td>\n",
       "      <td>1.65</td>\n",
       "      <td>14569.0</td>\n",
       "      <td>United Kingdom</td>\n",
       "      <td>1.65</td>\n",
       "    </tr>\n",
       "    <tr>\n",
       "      <th>541768</th>\n",
       "      <td>581578</td>\n",
       "      <td>POST</td>\n",
       "      <td>postage</td>\n",
       "      <td>3</td>\n",
       "      <td>12/9/2011 12:16</td>\n",
       "      <td>18.00</td>\n",
       "      <td>12713.0</td>\n",
       "      <td>Germany</td>\n",
       "      <td>54.00</td>\n",
       "    </tr>\n",
       "    <tr>\n",
       "      <th>541769</th>\n",
       "      <td>581578</td>\n",
       "      <td>21124</td>\n",
       "      <td>set/10 blue polkadot party candles</td>\n",
       "      <td>24</td>\n",
       "      <td>12/9/2011 12:16</td>\n",
       "      <td>1.25</td>\n",
       "      <td>12713.0</td>\n",
       "      <td>Germany</td>\n",
       "      <td>30.00</td>\n",
       "    </tr>\n",
       "  </tbody>\n",
       "</table>\n",
       "<p>8608 rows × 9 columns</p>\n",
       "</div>"
      ],
      "text/plain": [
       "       InvoiceNo StockCode                         Description  Quantity  \\\n",
       "0         536365    85123A  white hanging heart t-light holder         6   \n",
       "1         536365     71053                 white metal lantern         6   \n",
       "9         536367     84879       assorted colour bird ornament        32   \n",
       "10        536367     22745           poppy's playhouse bedroom         6   \n",
       "26        536370     22728           alarm clock bakelike pink        24   \n",
       "...          ...       ...                                 ...       ...   \n",
       "538065    581385     21479        white skull hot water bottle        72   \n",
       "538812    581416     22466      fairy tale cottage night light         1   \n",
       "538813    581416     21731       red toadstool led night light         1   \n",
       "541768    581578      POST                             postage         3   \n",
       "541769    581578     21124  set/10 blue polkadot party candles        24   \n",
       "\n",
       "            InvoiceDate  UnitPrice  CustomerID         Country  TotalPrice  \n",
       "0        12/1/2010 8:26       2.55     17850.0  United Kingdom       15.30  \n",
       "1        12/1/2010 8:26       3.39     17850.0  United Kingdom       20.34  \n",
       "9        12/1/2010 8:34       1.69     13047.0  United Kingdom       54.08  \n",
       "10       12/1/2010 8:34       2.10     13047.0  United Kingdom       12.60  \n",
       "26       12/1/2010 8:45       3.75     12583.0          France       90.00  \n",
       "...                 ...        ...         ...             ...         ...  \n",
       "538065  12/8/2011 13:11       3.75     13298.0  United Kingdom      270.00  \n",
       "538812  12/8/2011 14:58       1.95     14569.0  United Kingdom        1.95  \n",
       "538813  12/8/2011 14:58       1.65     14569.0  United Kingdom        1.65  \n",
       "541768  12/9/2011 12:16      18.00     12713.0         Germany       54.00  \n",
       "541769  12/9/2011 12:16       1.25     12713.0         Germany       30.00  \n",
       "\n",
       "[8608 rows x 9 columns]"
      ]
     },
     "execution_count": 416,
     "metadata": {},
     "output_type": "execute_result"
    }
   ],
   "source": [
    "data = df.groupby(\"CustomerID\")\n",
    "data.head(2)"
   ]
  },
  {
   "cell_type": "code",
   "execution_count": 417,
   "id": "d477b1b6",
   "metadata": {},
   "outputs": [
    {
     "data": {
      "text/plain": [
       "CustomerID\n",
       "0.0        1600\n",
       "12748.0     210\n",
       "14911.0     201\n",
       "17841.0     124\n",
       "13089.0      97\n",
       "14606.0      93\n",
       "15311.0      91\n",
       "12971.0      86\n",
       "14646.0      74\n",
       "16029.0      63\n",
       "Name: InvoiceNo, dtype: int64"
      ]
     },
     "execution_count": 417,
     "metadata": {},
     "output_type": "execute_result"
    }
   ],
   "source": [
    "df.groupby('CustomerID')['InvoiceNo'].nunique().sort_values(ascending=False).head(10)"
   ]
  },
  {
   "cell_type": "markdown",
   "id": "204aa446",
   "metadata": {},
   "source": [
    "# Step 11: Time-Based Analysis | Convert InvoiceDate to datetime and check popular months/hours."
   ]
  },
  {
   "cell_type": "code",
   "execution_count": null,
   "id": "60aba45c",
   "metadata": {},
   "outputs": [],
   "source": []
  },
  {
   "cell_type": "markdown",
   "id": "631b50e2",
   "metadata": {},
   "source": [
    "# Step 12: Convert to Basket Format "
   ]
  },
  {
   "cell_type": "markdown",
   "id": "f6c07972",
   "metadata": {},
   "source": [
    "Example\n",
    "<table border=\"1\">\n",
    "    <thead>\n",
    "        <tr>\n",
    "            <th>Transaction</th>\n",
    "            <th>Milk</th>\n",
    "            <th>Bread</th>\n",
    "            <th>Butter</th>\n",
    "        </tr>\n",
    "    </thead>\n",
    "    <tbody>\n",
    "        <tr><td>T1</td><td>1</td><td>1</td><td>1</td></tr>\n",
    "        <tr><td>T2</td><td>0</td><td>1</td><td>1</td></tr>\n",
    "        <tr><td>T3</td><td>1</td><td>0</td><td>0</td></tr>\n",
    "        <tr><td>T4</td><td>1</td><td>1</td><td>0</td></tr>\n",
    "        <tr><td>T5</td><td>0</td><td>1</td><td>1</td></tr>\n",
    "    </tbody>\n",
    "</table>\n"
   ]
  },
  {
   "cell_type": "code",
   "execution_count": null,
   "id": "0e753add",
   "metadata": {},
   "outputs": [],
   "source": []
  },
  {
   "cell_type": "markdown",
   "id": "2162b037",
   "metadata": {},
   "source": [
    "# Step:13 : Save Basket Format into CSV file"
   ]
  },
  {
   "cell_type": "code",
   "execution_count": null,
   "id": "5120def9",
   "metadata": {},
   "outputs": [],
   "source": []
  }
 ],
 "metadata": {
  "kernelspec": {
   "display_name": "Python 3",
   "language": "python",
   "name": "python3"
  },
  "language_info": {
   "codemirror_mode": {
    "name": "ipython",
    "version": 3
   },
   "file_extension": ".py",
   "mimetype": "text/x-python",
   "name": "python",
   "nbconvert_exporter": "python",
   "pygments_lexer": "ipython3",
   "version": "3.12.2"
  }
 },
 "nbformat": 4,
 "nbformat_minor": 5
}
